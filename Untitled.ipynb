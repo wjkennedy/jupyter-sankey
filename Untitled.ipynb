{
 "cells": [
  {
   "cell_type": "code",
   "execution_count": null,
   "id": "established-equity",
   "metadata": {},
   "outputs": [],
   "source": [
    "import xlrd\n",
    "\n",
    "workbook = xlrd.open_workbook('foo.xls')\n",
    "workbook = xlrd.open_workbook('foo.xls', on_demand = True)\n",
    "worksheet = workbook.sheet_by_index(0)\n",
    "first_row = [] # The row where we stock the name of the column\n",
    "for col in range(worksheet.ncols):\n",
    "    first_row.append( worksheet.cell_value(0,col) )\n",
    "# transform the workbook to a list of dictionaries\n",
    "data =[]\n",
    "for row in range(1, worksheet.nrows):\n",
    "    elm = {}\n",
    "    for col in range(worksheet.ncols):\n",
    "        elm[first_row[col]]=worksheet.cell_value(row,col)\n",
    "    data.append(elm)\n",
    "print data\n",
    "\n"
   ]
  }
 ],
 "metadata": {
  "kernelspec": {
   "display_name": "Python 3",
   "language": "python",
   "name": "python3"
  },
  "language_info": {
   "codemirror_mode": {
    "name": "ipython",
    "version": 3
   },
   "file_extension": ".py",
   "mimetype": "text/x-python",
   "name": "python",
   "nbconvert_exporter": "python",
   "pygments_lexer": "ipython3",
   "version": "3.9.2"
  }
 },
 "nbformat": 4,
 "nbformat_minor": 5
}
