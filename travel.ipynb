{
 "cells": [
  {
   "cell_type": "markdown",
   "id": "4a1311aa",
   "metadata": {},
   "source": [
    "## Get Started"
   ]
  },
  {
   "cell_type": "code",
   "execution_count": 22,
   "id": "a802f96d",
   "metadata": {
    "ExecuteTime": {
     "end_time": "2022-01-12T22:17:53.914401Z",
     "start_time": "2022-01-12T22:17:53.023435Z"
    }
   },
   "outputs": [],
   "source": [
    "import pandas as pd\n",
    "from floweaver import *"
   ]
  },
  {
   "cell_type": "code",
   "execution_count": 2,
   "id": "0a849f5e",
   "metadata": {
    "ExecuteTime": {
     "end_time": "2022-01-12T22:17:54.207759Z",
     "start_time": "2022-01-12T22:17:54.198931Z"
    }
   },
   "outputs": [],
   "source": [
    "df = pd.read_csv(\"WorldCruiseData.csv\")"
   ]
  },
  {
   "cell_type": "code",
   "execution_count": 3,
   "id": "66138f45",
   "metadata": {
    "ExecuteTime": {
     "end_time": "2022-01-12T22:17:54.222548Z",
     "start_time": "2022-01-12T22:17:54.208672Z"
    }
   },
   "outputs": [
    {
     "data": {
      "text/html": [
       "<div>\n",
       "<style scoped>\n",
       "    .dataframe tbody tr th:only-of-type {\n",
       "        vertical-align: middle;\n",
       "    }\n",
       "\n",
       "    .dataframe tbody tr th {\n",
       "        vertical-align: top;\n",
       "    }\n",
       "\n",
       "    .dataframe thead th {\n",
       "        text-align: right;\n",
       "    }\n",
       "</style>\n",
       "<table border=\"1\" class=\"dataframe\">\n",
       "  <thead>\n",
       "    <tr style=\"text-align: right;\">\n",
       "      <th></th>\n",
       "      <th>ROUTE</th>\n",
       "      <th>EMBARK_PORT</th>\n",
       "      <th>DISEMBARK_PORT</th>\n",
       "      <th>CABIN_TYPE</th>\n",
       "      <th>DURATION</th>\n",
       "      <th>CRUISE_REGION</th>\n",
       "      <th>BOOKING_WEEK_PRIOR</th>\n",
       "      <th>CANCEL_WEEK_PRIOR</th>\n",
       "      <th>EMBARK_REGION</th>\n",
       "      <th>DEBARK_REGION</th>\n",
       "      <th>PRICE_PAID</th>\n",
       "      <th>NO_OF_PEOPLE_ON_BOOKING</th>\n",
       "    </tr>\n",
       "  </thead>\n",
       "  <tbody>\n",
       "    <tr>\n",
       "      <th>0</th>\n",
       "      <td>SOU-AKL</td>\n",
       "      <td>SOU</td>\n",
       "      <td>AKL</td>\n",
       "      <td>O</td>\n",
       "      <td>40</td>\n",
       "      <td>West Bound</td>\n",
       "      <td>33</td>\n",
       "      <td>33.0</td>\n",
       "      <td>UK</td>\n",
       "      <td>New Zealand</td>\n",
       "      <td>2811.127882</td>\n",
       "      <td>2</td>\n",
       "    </tr>\n",
       "    <tr>\n",
       "      <th>1</th>\n",
       "      <td>SOU-AKL</td>\n",
       "      <td>SOU</td>\n",
       "      <td>AKL</td>\n",
       "      <td>O</td>\n",
       "      <td>40</td>\n",
       "      <td>West Bound</td>\n",
       "      <td>45</td>\n",
       "      <td>NaN</td>\n",
       "      <td>UK</td>\n",
       "      <td>New Zealand</td>\n",
       "      <td>5171.396346</td>\n",
       "      <td>2</td>\n",
       "    </tr>\n",
       "    <tr>\n",
       "      <th>2</th>\n",
       "      <td>SOU-AKL</td>\n",
       "      <td>SOU</td>\n",
       "      <td>AKL</td>\n",
       "      <td>B</td>\n",
       "      <td>40</td>\n",
       "      <td>West Bound</td>\n",
       "      <td>42</td>\n",
       "      <td>NaN</td>\n",
       "      <td>UK</td>\n",
       "      <td>New Zealand</td>\n",
       "      <td>6343.673826</td>\n",
       "      <td>2</td>\n",
       "    </tr>\n",
       "    <tr>\n",
       "      <th>3</th>\n",
       "      <td>SOU-BNE</td>\n",
       "      <td>SOU</td>\n",
       "      <td>BNE</td>\n",
       "      <td>B</td>\n",
       "      <td>47</td>\n",
       "      <td>West Bound</td>\n",
       "      <td>36</td>\n",
       "      <td>35.0</td>\n",
       "      <td>UK</td>\n",
       "      <td>Australia - Queensland</td>\n",
       "      <td>9784.513217</td>\n",
       "      <td>2</td>\n",
       "    </tr>\n",
       "    <tr>\n",
       "      <th>4</th>\n",
       "      <td>SOU-SFO</td>\n",
       "      <td>SOU</td>\n",
       "      <td>SFO</td>\n",
       "      <td>B</td>\n",
       "      <td>24</td>\n",
       "      <td>Panama Canal</td>\n",
       "      <td>57</td>\n",
       "      <td>NaN</td>\n",
       "      <td>UK</td>\n",
       "      <td>USA - West Coast</td>\n",
       "      <td>4182.892388</td>\n",
       "      <td>2</td>\n",
       "    </tr>\n",
       "    <tr>\n",
       "      <th>...</th>\n",
       "      <td>...</td>\n",
       "      <td>...</td>\n",
       "      <td>...</td>\n",
       "      <td>...</td>\n",
       "      <td>...</td>\n",
       "      <td>...</td>\n",
       "      <td>...</td>\n",
       "      <td>...</td>\n",
       "      <td>...</td>\n",
       "      <td>...</td>\n",
       "      <td>...</td>\n",
       "      <td>...</td>\n",
       "    </tr>\n",
       "    <tr>\n",
       "      <th>3918</th>\n",
       "      <td>HKG-SOU</td>\n",
       "      <td>HKG</td>\n",
       "      <td>SOU</td>\n",
       "      <td>B</td>\n",
       "      <td>36</td>\n",
       "      <td>Southeast Asia</td>\n",
       "      <td>42</td>\n",
       "      <td>41.0</td>\n",
       "      <td>China - Southern</td>\n",
       "      <td>UK</td>\n",
       "      <td>5084.221402</td>\n",
       "      <td>2</td>\n",
       "    </tr>\n",
       "    <tr>\n",
       "      <th>3919</th>\n",
       "      <td>DXB-SOU</td>\n",
       "      <td>DXB</td>\n",
       "      <td>SOU</td>\n",
       "      <td>S</td>\n",
       "      <td>19</td>\n",
       "      <td>Middle East</td>\n",
       "      <td>47</td>\n",
       "      <td>NaN</td>\n",
       "      <td>UAE</td>\n",
       "      <td>UK</td>\n",
       "      <td>5636.195082</td>\n",
       "      <td>2</td>\n",
       "    </tr>\n",
       "    <tr>\n",
       "      <th>3920</th>\n",
       "      <td>DXB-SOU</td>\n",
       "      <td>DXB</td>\n",
       "      <td>SOU</td>\n",
       "      <td>B</td>\n",
       "      <td>19</td>\n",
       "      <td>Middle East</td>\n",
       "      <td>24</td>\n",
       "      <td>NaN</td>\n",
       "      <td>UAE</td>\n",
       "      <td>UK</td>\n",
       "      <td>1596.550657</td>\n",
       "      <td>2</td>\n",
       "    </tr>\n",
       "    <tr>\n",
       "      <th>3921</th>\n",
       "      <td>DXB-SOU</td>\n",
       "      <td>DXB</td>\n",
       "      <td>SOU</td>\n",
       "      <td>B</td>\n",
       "      <td>19</td>\n",
       "      <td>Middle East</td>\n",
       "      <td>12</td>\n",
       "      <td>12.0</td>\n",
       "      <td>UAE</td>\n",
       "      <td>UK</td>\n",
       "      <td>2160.742284</td>\n",
       "      <td>2</td>\n",
       "    </tr>\n",
       "    <tr>\n",
       "      <th>3922</th>\n",
       "      <td>DXB-SOU</td>\n",
       "      <td>DXB</td>\n",
       "      <td>SOU</td>\n",
       "      <td>O</td>\n",
       "      <td>19</td>\n",
       "      <td>Middle East</td>\n",
       "      <td>27</td>\n",
       "      <td>16.0</td>\n",
       "      <td>UAE</td>\n",
       "      <td>UK</td>\n",
       "      <td>2338.375390</td>\n",
       "      <td>2</td>\n",
       "    </tr>\n",
       "  </tbody>\n",
       "</table>\n",
       "<p>3923 rows × 12 columns</p>\n",
       "</div>"
      ],
      "text/plain": [
       "        ROUTE EMBARK_PORT DISEMBARK_PORT CABIN_TYPE  DURATION   CRUISE_REGION  \\\n",
       "0     SOU-AKL         SOU            AKL          O        40      West Bound   \n",
       "1     SOU-AKL         SOU            AKL          O        40      West Bound   \n",
       "2     SOU-AKL         SOU            AKL          B        40      West Bound   \n",
       "3     SOU-BNE         SOU            BNE          B        47      West Bound   \n",
       "4     SOU-SFO         SOU            SFO          B        24    Panama Canal   \n",
       "...       ...         ...            ...        ...       ...             ...   \n",
       "3918  HKG-SOU         HKG            SOU          B        36  Southeast Asia   \n",
       "3919  DXB-SOU         DXB            SOU          S        19     Middle East   \n",
       "3920  DXB-SOU         DXB            SOU          B        19     Middle East   \n",
       "3921  DXB-SOU         DXB            SOU          B        19     Middle East   \n",
       "3922  DXB-SOU         DXB            SOU          O        19     Middle East   \n",
       "\n",
       "      BOOKING_WEEK_PRIOR  CANCEL_WEEK_PRIOR     EMBARK_REGION  \\\n",
       "0                     33               33.0                UK   \n",
       "1                     45                NaN                UK   \n",
       "2                     42                NaN                UK   \n",
       "3                     36               35.0                UK   \n",
       "4                     57                NaN                UK   \n",
       "...                  ...                ...               ...   \n",
       "3918                  42               41.0  China - Southern   \n",
       "3919                  47                NaN               UAE   \n",
       "3920                  24                NaN               UAE   \n",
       "3921                  12               12.0               UAE   \n",
       "3922                  27               16.0               UAE   \n",
       "\n",
       "               DEBARK_REGION   PRICE_PAID  NO_OF_PEOPLE_ON_BOOKING  \n",
       "0                New Zealand  2811.127882                        2  \n",
       "1                New Zealand  5171.396346                        2  \n",
       "2                New Zealand  6343.673826                        2  \n",
       "3     Australia - Queensland  9784.513217                        2  \n",
       "4           USA - West Coast  4182.892388                        2  \n",
       "...                      ...          ...                      ...  \n",
       "3918                      UK  5084.221402                        2  \n",
       "3919                      UK  5636.195082                        2  \n",
       "3920                      UK  1596.550657                        2  \n",
       "3921                      UK  2160.742284                        2  \n",
       "3922                      UK  2338.375390                        2  \n",
       "\n",
       "[3923 rows x 12 columns]"
      ]
     },
     "execution_count": 3,
     "metadata": {},
     "output_type": "execute_result"
    }
   ],
   "source": [
    "df"
   ]
  },
  {
   "cell_type": "code",
   "execution_count": 4,
   "id": "a5f63a7e",
   "metadata": {
    "ExecuteTime": {
     "end_time": "2022-01-13T02:10:32.789931Z",
     "start_time": "2022-01-13T02:10:32.743329Z"
    }
   },
   "outputs": [],
   "source": [
    "flows = (\n",
    "    df.groupby([\"EMBARK_PORT\", \"DISEMBARK_PORT\", \"CRUISE_REGION\"])\n",
    "    .agg({\"PRICE_PAID\": \"mean\"})\n",
    "    .dropna()\n",
    "    .reset_index()\n",
    "    .rename(\n",
    "        columns={\n",
    "            \"EMBARK_PORT\": \"source\",\n",
    "            \"DISEMBARK_PORT\": \"target\",\n",
    "            \"CRUISE_REGION\": \"type\",\n",
    "            \"PRICE_PAID\": \"value\",\n",
    "        }\n",
    "    )\n",
    ")"
   ]
  },
  {
   "cell_type": "code",
   "execution_count": 5,
   "id": "657ce8c3",
   "metadata": {
    "ExecuteTime": {
     "end_time": "2022-01-13T02:10:33.277542Z",
     "start_time": "2022-01-13T02:10:33.254300Z"
    }
   },
   "outputs": [],
   "source": [
    "nodes = {\n",
    "    \"embark_port\": ProcessGroup(flows[\"source\"].unique().tolist()),\n",
    "    \"disembark_port\": ProcessGroup(flows[\"target\"].unique().tolist()),\n",
    "}"
   ]
  },
  {
   "cell_type": "code",
   "execution_count": 6,
   "id": "c1ae983c",
   "metadata": {
    "ExecuteTime": {
     "end_time": "2022-01-13T02:10:33.500395Z",
     "start_time": "2022-01-13T02:10:33.486663Z"
    }
   },
   "outputs": [],
   "source": [
    "ordering = [[\"embark_port\"], [\"disembark_port\"]]"
   ]
  },
  {
   "cell_type": "code",
   "execution_count": 7,
   "id": "4239d07c",
   "metadata": {
    "ExecuteTime": {
     "end_time": "2022-01-13T02:10:33.745491Z",
     "start_time": "2022-01-13T02:10:33.731529Z"
    }
   },
   "outputs": [],
   "source": [
    "bundles = [Bundle(\"embark_port\", \"disembark_port\")]"
   ]
  },
  {
   "cell_type": "code",
   "execution_count": 8,
   "id": "2c95acf9",
   "metadata": {
    "ExecuteTime": {
     "end_time": "2022-01-13T02:10:34.084348Z",
     "start_time": "2022-01-13T02:10:34.003048Z"
    }
   },
   "outputs": [
    {
     "data": {
      "application/vnd.jupyter.widget-view+json": {
       "model_id": "88e8d24ce5954fc1919e56267d0fe40f",
       "version_major": 2,
       "version_minor": 0
      },
      "text/plain": [
       "SankeyWidget(layout=Layout(height='500', width='700'), links=[{'source': 'embark_port^*', 'target': 'disembark…"
      ]
     },
     "metadata": {},
     "output_type": "display_data"
    }
   ],
   "source": [
    "sdd = SankeyDefinition(nodes, bundles, ordering)\n",
    "weave(sdd, flows).to_widget().auto_save_png(\"simple.png\")"
   ]
  },
  {
   "cell_type": "code",
   "execution_count": 9,
   "id": "f380d33a",
   "metadata": {
    "ExecuteTime": {
     "end_time": "2022-01-13T02:10:34.500596Z",
     "start_time": "2022-01-13T02:10:34.308574Z"
    }
   },
   "outputs": [
    {
     "data": {
      "application/vnd.jupyter.widget-view+json": {
       "model_id": "96f8e50e810a4341adb3ac877f26c10d",
       "version_major": 2,
       "version_minor": 0
      },
      "text/plain": [
       "SankeyWidget(groups=[{'id': 'embark_port', 'type': 'process', 'title': '', 'nodes': ['embark_port^AKL', 'embar…"
      ]
     },
     "metadata": {},
     "output_type": "display_data"
    }
   ],
   "source": [
    "# Create partitions for each type of port\n",
    "ports = [\"AKL\", \"BNE\", \"DXB\", \"HKG\", \"SFO\", \"SIN\", \"SOU\", \"SYD\"]\n",
    "\n",
    "embark_port = Partition.Simple(\"process\", ports)\n",
    "disembark_port = Partition.Simple(\"process\", ports)\n",
    "\n",
    "nodes[\"embark_port\"].partition = embark_port\n",
    "nodes[\"disembark_port\"].partition = disembark_port\n",
    "\n",
    "# Create Sankey diagram\n",
    "weave(sdd, flows).to_widget().auto_save_png(\"area.png\")"
   ]
  },
  {
   "cell_type": "markdown",
   "id": "a5d5a3ef",
   "metadata": {},
   "source": [
    "## Combine Different Categories"
   ]
  },
  {
   "cell_type": "code",
   "execution_count": 10,
   "id": "ebc4e2f9",
   "metadata": {
    "ExecuteTime": {
     "end_time": "2022-01-13T02:10:35.110356Z",
     "start_time": "2022-01-13T02:10:35.102629Z"
    }
   },
   "outputs": [],
   "source": [
    "continents = [\n",
    "    (\"Oceania\", [\"AKL\"]),\n",
    "    (\"Australia\", [\"BNE\", \"SYD\"]),\n",
    "    (\"North America\", [\"SFO\"]),\n",
    "    (\"Europe\", [\"SOU\"]),\n",
    "    (\"Asia\", [\"HKG\", \"SIN\", \"DXB\"]),\n",
    "]"
   ]
  },
  {
   "cell_type": "code",
   "execution_count": 11,
   "id": "3f428343",
   "metadata": {
    "ExecuteTime": {
     "end_time": "2022-01-13T02:10:35.668631Z",
     "start_time": "2022-01-13T02:10:35.664346Z"
    }
   },
   "outputs": [],
   "source": [
    "continent_groups = Partition.Simple(\"process\", continents)"
   ]
  },
  {
   "cell_type": "code",
   "execution_count": 12,
   "id": "920679c9",
   "metadata": {
    "ExecuteTime": {
     "end_time": "2022-01-13T02:10:35.912774Z",
     "start_time": "2022-01-13T02:10:35.896517Z"
    }
   },
   "outputs": [],
   "source": [
    "nodes[\"embark_port\"].partition = continent_groups\n",
    "nodes[\"disembark_port\"].partition = continent_groups"
   ]
  },
  {
   "cell_type": "code",
   "execution_count": 13,
   "id": "6fd877d4",
   "metadata": {
    "ExecuteTime": {
     "end_time": "2022-01-13T02:10:36.332786Z",
     "start_time": "2022-01-13T02:10:36.160297Z"
    }
   },
   "outputs": [
    {
     "data": {
      "application/vnd.jupyter.widget-view+json": {
       "model_id": "2c7f69b56b164c7fad6ef116cbec3be7",
       "version_major": 2,
       "version_minor": 0
      },
      "text/plain": [
       "SankeyWidget(groups=[{'id': 'embark_port', 'type': 'process', 'title': '', 'nodes': ['embark_port^Oceania', 'e…"
      ]
     },
     "metadata": {},
     "output_type": "display_data"
    }
   ],
   "source": [
    "weave(sdd, flows).to_widget().auto_save_png(\"continent.png\")"
   ]
  },
  {
   "cell_type": "markdown",
   "id": "445ae8e9",
   "metadata": {},
   "source": [
    "## Color Intensity"
   ]
  },
  {
   "cell_type": "code",
   "execution_count": 14,
   "id": "cf9810c4",
   "metadata": {
    "ExecuteTime": {
     "end_time": "2022-01-13T02:10:36.672048Z",
     "start_time": "2022-01-13T02:10:36.622073Z"
    }
   },
   "outputs": [
    {
     "data": {
      "application/vnd.jupyter.widget-view+json": {
       "model_id": "83bcc1e28ad146d789a48b883a0c596b",
       "version_major": 2,
       "version_minor": 0
      },
      "text/plain": [
       "SankeyWidget(groups=[{'id': 'embark_port', 'type': 'process', 'title': '', 'nodes': ['embark_port^Oceania', 'e…"
      ]
     },
     "metadata": {},
     "output_type": "display_data"
    }
   ],
   "source": [
    "weave(sdd, flows, link_color=QuantitativeScale(\"value\")).to_widget().auto_save_png(\n",
    "    \"intensity.png\"\n",
    ")"
   ]
  },
  {
   "cell_type": "code",
   "execution_count": 15,
   "id": "9fa9611e",
   "metadata": {
    "ExecuteTime": {
     "end_time": "2022-01-13T02:10:39.363694Z",
     "start_time": "2022-01-13T02:10:39.192866Z"
    }
   },
   "outputs": [
    {
     "data": {
      "application/vnd.jupyter.widget-view+json": {
       "model_id": "ffdbb4decc3748a9a4dbb13939d97ceb",
       "version_major": 2,
       "version_minor": 0
      },
      "text/plain": [
       "SankeyWidget(groups=[{'id': 'embark_port', 'type': 'process', 'title': '', 'nodes': ['embark_port^Oceania', 'e…"
      ]
     },
     "metadata": {},
     "output_type": "display_data"
    }
   ],
   "source": [
    "weave(\n",
    "    sdd, flows, link_color=QuantitativeScale(\"value\", palette=\"Blues_9\")\n",
    ").to_widget().auto_save_png(\"intensity.png\")"
   ]
  },
  {
   "cell_type": "markdown",
   "id": "f857b1f8",
   "metadata": {},
   "source": [
    "## Distinguish Different Flow Types"
   ]
  },
  {
   "cell_type": "code",
   "execution_count": 16,
   "id": "24422d87",
   "metadata": {
    "ExecuteTime": {
     "end_time": "2022-01-13T02:24:26.969784Z",
     "start_time": "2022-01-13T02:24:26.789786Z"
    }
   },
   "outputs": [
    {
     "data": {
      "application/vnd.jupyter.widget-view+json": {
       "model_id": "dd6c5cf173834360ba3f3216a7c685e6",
       "version_major": 2,
       "version_minor": 0
      },
      "text/plain": [
       "SankeyWidget(groups=[{'id': 'embark_port', 'type': 'process', 'title': '', 'nodes': ['embark_port^Oceania', 'e…"
      ]
     },
     "metadata": {},
     "output_type": "display_data"
    }
   ],
   "source": [
    "cruise_region = Partition.Simple(\"type\", flows.type.unique())\n",
    "\n",
    "sdd = SankeyDefinition(\n",
    "    nodes,\n",
    "    bundles,\n",
    "    ordering,\n",
    "    flow_partition=cruise_region,\n",
    ")\n",
    "weave(sdd, flows).to_widget().auto_save_png(\"cruise_region.png\")"
   ]
  },
  {
   "cell_type": "markdown",
   "id": "9909914d",
   "metadata": {},
   "source": [
    "## Group Lines of the Same Type"
   ]
  },
  {
   "cell_type": "code",
   "execution_count": 17,
   "id": "ea5e7f16",
   "metadata": {
    "ExecuteTime": {
     "end_time": "2022-01-12T22:17:54.668436Z",
     "start_time": "2022-01-12T22:17:54.583029Z"
    }
   },
   "outputs": [
    {
     "data": {
      "application/vnd.jupyter.widget-view+json": {
       "model_id": "2afd16979712440e8055a9a966d66ea4",
       "version_major": 2,
       "version_minor": 0
      },
      "text/plain": [
       "SankeyWidget(groups=[{'id': 'embark_port', 'type': 'process', 'title': '', 'nodes': ['embark_port^Oceania', 'e…"
      ]
     },
     "metadata": {},
     "output_type": "display_data"
    }
   ],
   "source": [
    "# 1. Define a new waypoint node\n",
    "nodes[\"waypoint\"] = Waypoint(cruise_region)\n",
    "\n",
    "# 2. Update the ordering to show where the waypoint goes: in the middle\n",
    "ordering = [\n",
    "    [\"embark_port\"],\n",
    "    [\"waypoint\"],\n",
    "    [\"disembark_port\"],\n",
    "]\n",
    "\n",
    "# 3. Update the bundle definition to send the flows via the waypoint\n",
    "bundles = [\n",
    "    Bundle(\"embark_port\", \"disembark_port\", waypoints=[\"waypoint\"]),\n",
    "]\n",
    "\n",
    "# Update the SDD with the new nodes, ordering & bundles.\n",
    "sdd = SankeyDefinition(nodes, bundles, ordering)\n",
    "\n",
    "weave(sdd, flows, link_color=QuantitativeScale(\"value\", palette='Blues_9')).to_widget().auto_save_png(\n",
    "    \"waypoint.png\"\n",
    ")"
   ]
  }
 ],
 "metadata": {
  "kernelspec": {
   "display_name": "Python 3 (ipykernel)",
   "language": "python",
   "name": "python3"
  },
  "language_info": {
   "codemirror_mode": {
    "name": "ipython",
    "version": 3
   },
   "file_extension": ".py",
   "mimetype": "text/x-python",
   "name": "python",
   "nbconvert_exporter": "python",
   "pygments_lexer": "ipython3",
   "version": "3.8.10"
  },
  "toc": {
   "base_numbering": 1,
   "nav_menu": {},
   "number_sections": true,
   "sideBar": true,
   "skip_h1_title": false,
   "title_cell": "Table of Contents",
   "title_sidebar": "Contents",
   "toc_cell": false,
   "toc_position": {},
   "toc_section_display": true,
   "toc_window_display": false
  }
 },
 "nbformat": 4,
 "nbformat_minor": 5
}
